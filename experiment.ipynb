{
 "cells": [
  {
   "cell_type": "code",
   "execution_count": 1,
   "metadata": {},
   "outputs": [
    {
     "ename": "NameError",
     "evalue": "name 'json' is not defined",
     "output_type": "error",
     "traceback": [
      "\u001b[1;31m---------------------------------------------------------------------------\u001b[0m",
      "\u001b[1;31mNameError\u001b[0m                                 Traceback (most recent call last)",
      "\u001b[1;32m<ipython-input-1-0be3eb81e3c5>\u001b[0m in \u001b[0;36m<module>\u001b[1;34m()\u001b[0m\n\u001b[0;32m      1\u001b[0m \u001b[0mx\u001b[0m\u001b[1;33m=\u001b[0m\u001b[1;33m{\u001b[0m\u001b[1;34mu'a'\u001b[0m\u001b[1;33m:\u001b[0m \u001b[1;34mu'aValue'\u001b[0m\u001b[1;33m,\u001b[0m \u001b[1;34mu'b'\u001b[0m\u001b[1;33m:\u001b[0m \u001b[1;34mu'bValue'\u001b[0m\u001b[1;33m,\u001b[0m \u001b[1;34mu'c'\u001b[0m\u001b[1;33m:\u001b[0m \u001b[1;34mu'cValue'\u001b[0m\u001b[1;33m}\u001b[0m\u001b[1;33m\u001b[0m\u001b[0m\n\u001b[1;32m----> 2\u001b[1;33m \u001b[0my\u001b[0m\u001b[1;33m=\u001b[0m\u001b[0mjson\u001b[0m\u001b[1;33m.\u001b[0m\u001b[0mdumps\u001b[0m\u001b[1;33m(\u001b[0m\u001b[0mx\u001b[0m\u001b[1;33m)\u001b[0m\u001b[1;33m\u001b[0m\u001b[0m\n\u001b[0m\u001b[0;32m      3\u001b[0m \u001b[1;32mprint\u001b[0m \u001b[0my\u001b[0m\u001b[1;33m\u001b[0m\u001b[0m\n",
      "\u001b[1;31mNameError\u001b[0m: name 'json' is not defined"
     ]
    }
   ],
   "source": [
    "x={u'a': u'aValue', u'b': u'bValue', u'c': u'cValue'}\n",
    "y=json.dumps(x)\n",
    "print y"
   ]
  },
  {
   "cell_type": "code",
   "execution_count": 74,
   "metadata": {},
   "outputs": [
    {
     "name": "stdout",
     "output_type": "stream",
     "text": [
      "<type 'dict'>\n",
      "<type 'str'>\n",
      "{u'aaa': 11}\n"
     ]
    }
   ],
   "source": [
    "import json\n",
    "d={ 'title':'Review of Jerome Russell B-wild Color Spray \\u001a Jaguar Green',2:'b'}\n",
    "d={'aaa':11}\n",
    "print type(d)\n",
    "#d={1:'a',2:'b'}\n",
    "s=json.dumps(d, ensure_ascii=False, encoding='utf-8')\n",
    "print type(s)\n",
    "data_item = json.loads(s)\n",
    "print data_item"
   ]
  },
  {
   "cell_type": "code",
   "execution_count": 94,
   "metadata": {},
   "outputs": [
    {
     "data": {
      "text/plain": [
       "1"
      ]
     },
     "execution_count": 94,
     "metadata": {},
     "output_type": "execute_result"
    }
   ],
   "source": [
    "\n",
    "import numpy as np\n",
    "a=np.array([1,2,3])\n",
    "import numpy as np\n",
    "import matplotlib.pyplot as plt\n",
    "\n",
    "\n",
    "# Have colormaps separated into categories:\n",
    "# http://matplotlib.org/examples/color/colormaps_reference.html\n",
    "cmaps = [('Perceptually Uniform Sequential', [\n",
    "            'viridis', 'plasma', 'inferno', 'magma']),\n",
    "         ('Sequential', [\n",
    "            'Greys', 'Purples', 'Blues', 'Greens', 'Oranges', 'Reds',\n",
    "            'YlOrBr', 'YlOrRd', 'OrRd', 'PuRd', 'RdPu', 'BuPu',\n",
    "            'GnBu', 'PuBu', 'YlGnBu', 'PuBuGn', 'BuGn', 'YlGn']),\n",
    "         ('Sequential (2)', [\n",
    "            'binary', 'gist_yarg', 'gist_gray', 'gray', 'bone', 'pink',\n",
    "            'spring', 'summer', 'autumn', 'winter', 'cool', 'Wistia',\n",
    "            'hot', 'afmhot', 'gist_heat', 'copper']),\n",
    "         ('Diverging', [\n",
    "            'PiYG', 'PRGn', 'BrBG', 'PuOr', 'RdGy', 'RdBu',\n",
    "            'RdYlBu', 'RdYlGn', 'Spectral', 'coolwarm', 'bwr', 'seismic']),\n",
    "         ('Qualitative', [\n",
    "            'Pastel1', 'Pastel2', 'Paired', 'Accent',\n",
    "            'Dark2', 'Set1', 'Set2', 'Set3',\n",
    "            'tab10', 'tab20', 'tab20b', 'tab20c']),\n",
    "         ('Miscellaneous', [\n",
    "            'flag', 'prism', 'ocean', 'gist_earth', 'terrain', 'gist_stern',\n",
    "            'gnuplot', 'gnuplot2', 'CMRmap', 'cubehelix', 'brg', 'hsv',\n",
    "            'gist_rainbow', 'rainbow', 'jet', 'nipy_spectral', 'gist_ncar'])]\n",
    "\n",
    "\n",
    "nrows = max(len(cmap_list) for cmap_category, cmap_list in cmaps)\n",
    "gradient = np.linspace(0, 1, 256)\n",
    "gradient = np.vstack((gradient, gradient))\n",
    "\n",
    "\n",
    "def plot_color_gradients(cmap_category, cmap_list, nrows):\n",
    "    fig, axes = plt.subplots(nrows=nrows)\n",
    "    fig.subplots_adjust(top=0.95, bottom=0.01, left=0.2, right=0.99)\n",
    "    axes[0].set_title(cmap_category + ' colormaps', fontsize=14)\n",
    "\n",
    "    for ax, name in zip(axes, cmap_list):\n",
    "        ax.imshow(gradient, aspect='auto', cmap=plt.get_cmap(name))\n",
    "        pos = list(ax.get_position().bounds)\n",
    "        x_text = pos[0] - 0.01\n",
    "        y_text = pos[1] + pos[3]/2.\n",
    "        fig.text(x_text, y_text, name, va='center', ha='right', fontsize=10)\n",
    "\n",
    "    # Turn off *all* ticks & spines, not just the ones with colormaps.\n",
    "    for ax in axes:\n",
    "        ax.set_axis_off()\n",
    "\n",
    "\n",
    "for cmap_category, cmap_list in cmaps:\n",
    "    plot_color_gradients(cmap_category, cmap_list, nrows)\n",
    "\n",
    "plt.show()"
   ]
  },
  {
   "cell_type": "code",
   "execution_count": 116,
   "metadata": {},
   "outputs": [
    {
     "name": "stdout",
     "output_type": "stream",
     "text": [
      "0.45\n",
      "0.5375\n"
     ]
    }
   ],
   "source": [
    "from textblob import TextBlob\n",
    "text = \"It's a man's obligation to stick his boneration in a woman's separation, this sort of penetration will increase the population of the younger generation.\"\n",
    "text2=\"When writing the title, there were so many '-ation' words we had to choose from. Flirtation, experimentation, elation... (I'm sure you can figure out the others.)\"\n",
    "text3=\"Everyone on team reddit would like to raise a toast to jedberg and the missus, in celebration of their embarkation into the exhilaration that is married life!\"\n",
    "text4=\"It's a very sound explanation.\"\n",
    "text5=\"What a awesome President and great business man. \"\n",
    "text6=\"And now look at the current white house, we have orange Orangutan running the country.\"\n",
    "text56=\"What a awesome President and great business man. And now look at the current white house, we have orange Orangutan running the country.\"\n",
    "text7=\"Do not compare a Orange Orangutans to a Guy who has a bad hair day Bro! Orangutans are much smarter than the Buffoon DT! DONALD Duck has even more brains than the Manic DT\"\n",
    "text8=\"A great what??? DB get your act together or do you sent your tax freely back??? Your just a little parasite I think, drinking and driving is not cool friend.........think about it\"\n",
    "polarity = TextBlob(text56).polarity\n",
    "subjectivity = TextBlob(text56).subjectivity\n",
    "print polarity\n",
    "print subjectivity"
   ]
  },
  {
   "cell_type": "code",
   "execution_count": 32,
   "metadata": {},
   "outputs": [
    {
     "data": {
      "image/png": "[encoded data removed]",
      "text/plain": [
       "<matplotlib.figure.Figure at 0xd2f1a70>"
      ]
     },
     "metadata": {},
     "output_type": "display_data"
    }
   ],
   "source": [
    "import random\n",
    "import matplotlib.pyplot as plt\n",
    "from scipy import special\n",
    "import numpy as np\n",
    "\n",
    "#Generate sample dict with random value to simulate paragraph data\n",
    "frequency = {}\n",
    "for i,j in enumerate(range(50)):\n",
    "    frequency[i]=random.randint(1,50)\n",
    "\n",
    "counts = frequency.values()\n",
    "tokens = frequency.keys()\n",
    "\n",
    "#Convert counts of values to numpy array\n",
    "s = np.array(counts)\n",
    "\n",
    "#define zipf distribution parameter. Has to be >1\n",
    "a = 2. \n",
    "\n",
    "# Display the histogram of the samples,\n",
    "#along with the probability density function\n",
    "count, bins, ignored = plt.hist(s, 50, normed=True)\n",
    "\n",
    "plt.title(\"Zipf plot for Combined Article Paragraphs\")\n",
    "x = np.arange(1., 50.)\n",
    "plt.xlabel(\"Frequency Rank of Token\")\n",
    "\n",
    "y = x**(-a) / special.zetac(a)\n",
    "\n",
    "plt.ylabel(\"Absolute Frequency of Token\")\n",
    "plt.plot(x, y/max(y), linewidth=2, color='r')\n",
    "plt.show()"
   ]
  },
  {
   "cell_type": "code",
   "execution_count": 37,
   "metadata": {},
   "outputs": [
    {
     "data": {
      "text/plain": [
       "0.082323233711138186"
      ]
     },
     "execution_count": 37,
     "metadata": {},
     "output_type": "execute_result"
    }
   ],
   "source": [
    "from scipy import special\n",
    "special.zetac(4)"
   ]
  },
  {
   "cell_type": "code",
   "execution_count": 21,
   "metadata": {},
   "outputs": [
    {
     "name": "stdout",
     "output_type": "stream",
     "text": [
      "           3          2\n",
      "-0.004669 x + 0.1392 x + 0.04214 x + 4.313\n"
     ]
    },
    {
     "data": {
      "image/png": "[encoded data removed]",
      "text/plain": [
       "<matplotlib.figure.Figure at 0x6fbe790>"
      ]
     },
     "metadata": {},
     "output_type": "display_data"
    },
    {
     "data": {
      "text/plain": [
       "<matplotlib.figure.Figure at 0x73acf70>"
      ]
     },
     "metadata": {},
     "output_type": "display_data"
    }
   ],
   "source": [
    "#encoding=utf-8    \n",
    "import numpy as np  \n",
    "import matplotlib.pyplot as plt  \n",
    "  \n",
    "#定义x、y散点坐标  \n",
    "x = np.arange(1, 16, 1)  \n",
    "num = [4.00, 5.20, 5.900, 6.80, 7.34,  \n",
    "       8.57, 9.86, 10.12, 12.56, 14.32,  \n",
    "       15.42, 16.50, 18.92, 19.58, 20.00]  \n",
    "y = np.array(num)  \n",
    "  \n",
    "#用3次多项式拟合  \n",
    "f1 = np.polyfit(x, y, 3)  \n",
    "p1 = np.poly1d(f1)  \n",
    "print(p1)  \n",
    "  \n",
    "#也可使用yvals=np.polyval(f1, x)  \n",
    "yvals = p1(x)  #拟合y值  \n",
    "  \n",
    "#绘图  \n",
    "plot1 = plt.plot(x, y, 's',label='original values')  \n",
    "plot2 = plt.plot(x, yvals, 'r',label='polyfit values')  \n",
    "plt.xlabel('x')  \n",
    "plt.ylabel('y')  \n",
    "plt.legend(loc=4) #指定legend的位置右下角  \n",
    "plt.title('polyfitting')  \n",
    "plt.show()  \n",
    "plt.savefig('test.png')  "
   ]
  },
  {
   "cell_type": "code",
   "execution_count": 26,
   "metadata": {},
   "outputs": [
    {
     "data": {
      "image/png": "[encoded data removed]",
      "text/plain": [
       "<matplotlib.figure.Figure at 0x7539b90>"
      ]
     },
     "metadata": {},
     "output_type": "display_data"
    }
   ],
   "source": [
    "import numpy as np  \n",
    "import matplotlib.pyplot as plt  \n",
    "from scipy.optimize import curve_fit  \n",
    "  \n",
    "def func(x, a, b, c):  \n",
    "    return a * np.exp(-b * x) + c  \n",
    "  \n",
    "# define the data to be fit with some noise  \n",
    "xdata = np.linspace(0, 4, 50)  \n",
    "y = func(xdata, 2.5, 1.3, 0.5)  \n",
    "y_noise = 0.2 * np.random.normal(size=xdata.size)  \n",
    "ydata = y + y_noise  \n",
    "plt.plot(xdata, ydata, 'b-', label='data')  \n",
    "  \n",
    "# Fit for the parameters a, b, c of the function `func`  \n",
    "popt, pcov = curve_fit(func, xdata, ydata)  \n",
    "plt.plot(xdata, func(xdata, *popt), 'r-', label='fit')  \n",
    "  \n",
    "# Constrain the optimization to the region of ``0 < a < 3``, ``0 < b < 2``  \n",
    "# and ``0 < c < 1``:  \n",
    "popt, pcov = curve_fit(func, xdata, ydata, bounds=(0, [3., 2., 1.]))  \n",
    "plt.plot(xdata, func(xdata, *popt), 'g--', label='fit-with-bounds')  \n",
    "  \n",
    "plt.xlabel('x')  \n",
    "plt.ylabel('y')  \n",
    "plt.legend()  \n",
    "plt.show()  "
   ]
  },
  {
   "cell_type": "code",
   "execution_count": 78,
   "metadata": {},
   "outputs": [
    {
     "name": "stdout",
     "output_type": "stream",
     "text": [
      "(array([ 0.41666667, -1.10714286,  2.47619048, -0.8       ]), array([[ 0.00099206, -0.00892855,  0.02341265, -0.01666663],\n",
      "       [-0.00892855,  0.08137738, -0.2168363 ,  0.15714255],\n",
      "       [ 0.02341265, -0.2168363 ,  0.59070183, -0.4404754 ],\n",
      "       [-0.01666663,  0.15714255, -0.4404754 ,  0.34571373]]))\n",
      "[ 0.41666667 -1.10714286  2.47619048 -0.8       ]\n",
      "(array([ 0.04166667, -0.08333333,  0.95833333, -0.91666667,  1.        ]), array([[ inf,  inf,  inf,  inf,  inf],\n",
      "       [ inf,  inf,  inf,  inf,  inf],\n",
      "       [ inf,  inf,  inf,  inf,  inf],\n",
      "       [ inf,  inf,  inf,  inf,  inf],\n",
      "       [ inf,  inf,  inf,  inf,  inf]]))\n",
      "[ 0.04166667 -0.08333333  0.95833333 -0.91666667  1.        ]\n"
     ]
    },
    {
     "data": {
      "image/png": "[encoded data removed]",
      "text/plain": [
       "<matplotlib.figure.Figure at 0x6dbebb0>"
      ]
     },
     "metadata": {},
     "output_type": "display_data"
    }
   ],
   "source": [
    "import numpy as np  \n",
    "import matplotlib.pyplot as plt  \n",
    "from scipy import optimize  \n",
    "  \n",
    "#直线方程函数  \n",
    "def f_1(x, A, B):  \n",
    "    return A*x + B  \n",
    "  \n",
    "#二次曲线方程  \n",
    "def f_2(x, A, B, C):  \n",
    "    return A*x*x + B*x + C  \n",
    "  \n",
    "#三次曲线方程  \n",
    "def f_3(x, A, B, C, D):  \n",
    "    return A*x*x*x + B*x*x + C*x + D  \n",
    "\n",
    "#四次曲线方程 \n",
    "def f_4(x, A, B, C, D,E):  \n",
    "    return A*x*x*x*x + B*x*x*x + C*x*x + D*x + E \n",
    "  \n",
    "def plot_test():  \n",
    "  \n",
    "    plt.figure()  \n",
    "  \n",
    "    #拟合点  \n",
    "    x0 = [1, 2, 3, 4, 5]  \n",
    "    y0 = [1, 3, 8, 18, 36]  \n",
    "  \n",
    "    #绘制散点  \n",
    "    plt.scatter(x0[:], y0[:], 25, \"red\")  \n",
    "    '''\n",
    "    #直线拟合与绘制  \n",
    "    A1, B1 = optimize.curve_fit(f_1, x0, y0)[0]  \n",
    "    x1 = np.arange(0, 6, 0.01)  \n",
    "    y1 = A1*x1 + B1  \n",
    "    plt.plot(x1, y1, \"blue\")  \n",
    "    \n",
    "    #二次曲线拟合与绘制  \n",
    "    A2, B2, C2 = optimize.curve_fit(f_2, x0, y0)[0]  \n",
    "    x2 = np.arange(0, 6, 0.01)  \n",
    "    y2 = A2*x2*x2 + B2*x2 + C2   \n",
    "    plt.plot(x2, y2, \"green\")  \n",
    "    '''\n",
    "    #三次曲线拟合与绘制  \n",
    "    A3, B3, C3, D3= optimize.curve_fit(f_3, x0, y0)[0]  \n",
    "    print optimize.curve_fit(f_3, x0, y0)\n",
    "    print optimize.curve_fit(f_3, x0, y0)[0]  \n",
    "    x3 = np.arange(0, 6, 0.01)  \n",
    "    y3 = A3*x3*x3*x3 + B3*x3*x3 + C3*x3 + D3   \n",
    "    plt.plot(x3, y3, \"purple\")  \n",
    "    \n",
    "    #四次曲线拟合与绘制  \n",
    "    A4, B4, C4, D4, E4 = optimize.curve_fit(f_4, x0, y0)[0]  \n",
    "    print optimize.curve_fit(f_4, x0, y0)\n",
    "    print optimize.curve_fit(f_4, x0, y0)[0]   \n",
    "    x4 = np.arange(0, 6, 0.01)  \n",
    "    y4 = A4*x4*x4*x4*x4 + B4*x4*x4*x4 + C4*x4*x4 + D4*x4 + E4   \n",
    "    plt.plot(x4, y4, \"blue\")  \n",
    "  \n",
    "    plt.title(\"test\")  \n",
    "    plt.xlabel('x')  \n",
    "    plt.ylabel('y')  \n",
    "  \n",
    "    plt.show()  \n",
    "    \n",
    "   \n",
    "    return  \n",
    "plot_test()"
   ]
  },
  {
   "cell_type": "code",
   "execution_count": 79,
   "metadata": {},
   "outputs": [
    {
     "name": "stdout",
     "output_type": "stream",
     "text": [
      "{'polynomial': [-0.024285714285714542, 1.1257142857142872, 1.3699999999999986], 'determination': 0.99893014166855909}\n"
     ]
    }
   ],
   "source": [
    "import numpy\n",
    "\n",
    "def polyfit(x, y, degree):\n",
    "    results = {}\n",
    "    coeffs = numpy.polyfit(x, y, degree)\n",
    "    results['polynomial'] = coeffs.tolist()\n",
    "\n",
    "    # r-squared\n",
    "    p = numpy.poly1d(coeffs)\n",
    "    # fit values, and mean\n",
    "    yhat = p(x)                         # or [p(z) for z in x]\n",
    "    ybar = numpy.sum(y)/len(y)          # or sum(y)/len(y)\n",
    "    ssreg = numpy.sum((yhat-ybar)**2)   # or sum([ (yihat - ybar)**2 for yihat in yhat])\n",
    "    sstot = numpy.sum((y - ybar)**2)    # or sum([ (yi - ybar)**2 for yi in y])\n",
    "    results['determination'] = ssreg / sstot #准确率\n",
    "    return results\n",
    "\n",
    "x=[ 1 ,2  ,3 ,4 ,5 ,6]\n",
    "y=[ 2.5 ,3.51 ,4.45 ,5.52 ,6.47 ,7.2]\n",
    "z1 = polyfit(x, y, 2)\n",
    "print z1"
   ]
  }
 ],
 "metadata": {
  "kernelspec": {
   "display_name": "Python 2",
   "language": "python",
   "name": "python2"
  },
  "language_info": {
   "codemirror_mode": {
    "name": "ipython",
    "version": 2
   },
   "file_extension": ".py",
   "mimetype": "text/x-python",
   "name": "python",
   "nbconvert_exporter": "python",
   "pygments_lexer": "ipython2",
   "version": "2.7.12"
  }
 },
 "nbformat": 4,
 "nbformat_minor": 2
}
